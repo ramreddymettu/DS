{
 "cells": [
  {
   "cell_type": "code",
   "execution_count": 5,
   "metadata": {},
   "outputs": [],
   "source": [
    "class Stack:\n",
    "    \"\"\"\n",
    "    Implemented stack with built-in List data structure with no maximim size of stack\n",
    "    \"\"\"\n",
    "    def __init__(self):\n",
    "        self.arr = []\n",
    "    \n",
    "    def push(self, val):\n",
    "        self.arr.append(val)\n",
    "    \n",
    "    def top(self):\n",
    "        if self.isempty():\n",
    "            print(\"Empty Stack, No element to pop.\")\n",
    "        else:\n",
    "            return self.arr[-1]\n",
    "    \n",
    "    def pop(self):\n",
    "        if self.isempty():\n",
    "            print(\"Empty Stack, No element on Top.\")\n",
    "        else:\n",
    "            return self.arr.pop()\n",
    "    \n",
    "    def isempty(self):\n",
    "        if len(self.arr) == 0:\n",
    "            return True\n",
    "        else:\n",
    "            return False\n",
    "        "
   ]
  },
  {
   "cell_type": "code",
   "execution_count": 25,
   "metadata": {},
   "outputs": [],
   "source": [
    "class StackV2():\n",
    "    \"\"\"\n",
    "    Implemented stack with built-in List data structure with maximim size of stack\n",
    "    \"\"\"\n",
    "    def __init__(self, size):\n",
    "        assert size > 0, \"Stack with <= 0 elements is nor valid\"\n",
    "        self.arr = [None]*size\n",
    "        self.size = size\n",
    "        self.top = 0\n",
    "    \n",
    "    def push(self, val):\n",
    "        if self.top < self.size:\n",
    "            self.arr[self.top] = val\n",
    "            self.top += 1\n",
    "        else:\n",
    "            print(\"Stack Overflow...\")\n",
    "    \n",
    "    def isempty(self):\n",
    "        if self.top == 0:\n",
    "            return True\n",
    "        else:\n",
    "            return False\n",
    "    \n",
    "    def pop(self):\n",
    "        if self.top == 0:\n",
    "            print(\"Empty stack...\")\n",
    "        else:\n",
    "            ele = self.arr[self.top - 1]\n",
    "            self.arr[self.top - 1] = None\n",
    "            self.top -= 1\n",
    "            return ele\n",
    "    \n",
    "    def peek(self):\n",
    "        if self.isempty():\n",
    "            print(\"Empty Stack, No element to pop.\")\n",
    "        else:\n",
    "            return self.arr[self.top - 1]"
   ]
  },
  {
   "cell_type": "code",
   "execution_count": 26,
   "metadata": {},
   "outputs": [],
   "source": [
    "if __name__ == \"__main__\":\n",
    "    sv2 = StackV2(2)\n",
    "    sv2.push(1)\n",
    "    sv2.push(2)\n",
    "    sv2.pop()"
   ]
  },
  {
   "cell_type": "code",
   "execution_count": null,
   "metadata": {},
   "outputs": [],
   "source": []
  }
 ],
 "metadata": {
  "kernelspec": {
   "display_name": "Python 3",
   "language": "python",
   "name": "python3"
  },
  "language_info": {
   "codemirror_mode": {
    "name": "ipython",
    "version": 3
   },
   "file_extension": ".py",
   "mimetype": "text/x-python",
   "name": "python",
   "nbconvert_exporter": "python",
   "pygments_lexer": "ipython3",
   "version": "3.8.2"
  }
 },
 "nbformat": 4,
 "nbformat_minor": 4
}
