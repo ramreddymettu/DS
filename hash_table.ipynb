{
 "cells": [
  {
   "cell_type": "code",
   "execution_count": 83,
   "metadata": {},
   "outputs": [],
   "source": [
    "class HashTable:\n",
    "    def __init__(self, max_ele=10):\n",
    "        self._table = [[] for _ in range(max_ele)]\n",
    "        self.MAX = max_ele\n",
    "    \n",
    "    def get_hash(self, key):\n",
    "        hsum = 0\n",
    "        for c in key:\n",
    "            hsum += ord(c)\n",
    "        return hsum % self.MAX\n",
    "    \n",
    "    def __setitem__(self, key, val):\n",
    "        h = self.get_hash(key)\n",
    "        \n",
    "        found = False\n",
    "        for i, ele in enumerate(self._table[h]):\n",
    "            if ele[0] == key:\n",
    "                self._table[h][i] = (key, val)\n",
    "                found = True\n",
    "                break\n",
    "        \n",
    "        if not found:\n",
    "            self._table[h].append((key, val))\n",
    "        \n",
    "    def __getitem__(self, key):\n",
    "        h = self.get_hash(key)\n",
    "        for i, ele in enumerate(self._table[h]):\n",
    "            if ele[0] == key:\n",
    "                return self._table[h][i][1]\n",
    "    \n",
    "    def __delete__(self, key):\n",
    "        h = self.get_hash(key)\n",
    "        for i, ele in enumerate(self._table[h]):\n",
    "            if ele[0] == key:\n",
    "                del self._table[h][i]\n",
    "    \n",
    "    def __contains__(self, key):\n",
    "        h = self.get_hash(key)\n",
    "        for ele in self._table[h]:\n",
    "            if ele[0] == key:\n",
    "                return True\n",
    "        else:\n",
    "            return False\n",
    "    def keys(self):\n",
    "        keys = []\n",
    "        for data in self._table:\n",
    "            if data:\n",
    "                for ele in data:\n",
    "                    keys.append(ele[0])\n",
    "        return keys\n",
    "    \n",
    "    def values(self):\n",
    "        vals = []\n",
    "        for data in self._table:\n",
    "            if data:\n",
    "                for ele in data:\n",
    "                    vals.append(ele[1])\n",
    "        return vals\n",
    "    \n",
    "    def items(self):\n",
    "        for data in self._table:\n",
    "            if data:\n",
    "                for ele in data:\n",
    "                    yield ele\n",
    "    \n",
    "    def __len__(self):\n",
    "        len_ = 0\n",
    "        for data in self._table:\n",
    "            if data:\n",
    "                len_ += len(data)\n",
    "        return len_\n",
    "    \n",
    "    def __str__(self):\n",
    "        items = list(self.items())\n",
    "        return f\"HashTable({str(items)})\"\n",
    "    \n",
    "    def __repr__(self):\n",
    "        items = list(self.items())\n",
    "        return f\"HashTable({str(items)})\""
   ]
  },
  {
   "cell_type": "code",
   "execution_count": 87,
   "metadata": {},
   "outputs": [
    {
     "name": "stdout",
     "output_type": "stream",
     "text": [
      "HashTable([('d', 4), ('e', 5), ('a', 1), ('b', 2), ('c', 3)])\n"
     ]
    }
   ],
   "source": [
    "if __name__ == \"__main__\":\n",
    "    ht = HashTable()\n",
    "    ht['a'] = 1\n",
    "    ht['b'] = 2\n",
    "    ht['c'] = 3\n",
    "    ht['d'] = 4\n",
    "    ht['e'] = 5\n",
    "    print(ht)"
   ]
  }
 ],
 "metadata": {
  "kernelspec": {
   "display_name": "Python 3",
   "language": "python",
   "name": "python3"
  },
  "language_info": {
   "codemirror_mode": {
    "name": "ipython",
    "version": 3
   },
   "file_extension": ".py",
   "mimetype": "text/x-python",
   "name": "python",
   "nbconvert_exporter": "python",
   "pygments_lexer": "ipython3",
   "version": "3.8.2"
  }
 },
 "nbformat": 4,
 "nbformat_minor": 4
}
