{
 "cells": [
  {
   "cell_type": "code",
   "execution_count": 78,
   "metadata": {},
   "outputs": [],
   "source": [
    "class BSTNode():\n",
    "    def __init__(self, data):\n",
    "        self.data = data\n",
    "        self.left = None\n",
    "        self.right = None\n",
    "    \n",
    "    def add_child(self, val):\n",
    "        if val == self.data:\n",
    "            return\n",
    "        \n",
    "        if val > self.data:\n",
    "            if self.right:\n",
    "                self.right.add_child(val)\n",
    "            else:\n",
    "                self.right = BSTNode(val)\n",
    "        else:\n",
    "            if self.left:\n",
    "                self.left.add_child(val)\n",
    "            else:\n",
    "                self.left = BSTNode(val)\n",
    "\n",
    "    def search(self, val):\n",
    "        print(self.data)\n",
    "        if val == self.data:\n",
    "            return True\n",
    "        \n",
    "        if val > self.data:\n",
    "            if self.right:\n",
    "                self.right.search(val)\n",
    "            else:\n",
    "                return False\n",
    "        else:\n",
    "            if self.left:\n",
    "                self.left.search(val)\n",
    "            else:\n",
    "                return False\n",
    "        \n",
    "        return False\n",
    "                \n",
    "        \n",
    "    \n",
    "    def __str__(self):\n",
    "        pass"
   ]
  },
  {
   "cell_type": "code",
   "execution_count": 79,
   "metadata": {},
   "outputs": [],
   "source": [
    "if __name__ == \"__main__\":\n",
    "    root = BSTNode(10)\n",
    "    root.add_child(11)\n",
    "    root.add_child(9)\n",
    "    root.add_child(13)"
   ]
  },
  {
   "cell_type": "code",
   "execution_count": 81,
   "metadata": {},
   "outputs": [
    {
     "name": "stdout",
     "output_type": "stream",
     "text": [
      "10\n",
      "True\n"
     ]
    }
   ],
   "source": [
    "print(root.search(10))"
   ]
  },
  {
   "cell_type": "code",
   "execution_count": null,
   "metadata": {},
   "outputs": [],
   "source": []
  }
 ],
 "metadata": {
  "kernelspec": {
   "display_name": "Python 3",
   "language": "python",
   "name": "python3"
  },
  "language_info": {
   "codemirror_mode": {
    "name": "ipython",
    "version": 3
   },
   "file_extension": ".py",
   "mimetype": "text/x-python",
   "name": "python",
   "nbconvert_exporter": "python",
   "pygments_lexer": "ipython3",
   "version": "3.8.2"
  }
 },
 "nbformat": 4,
 "nbformat_minor": 4
}
